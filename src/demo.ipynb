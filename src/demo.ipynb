{
 "cells": [
  {
   "cell_type": "code",
   "execution_count": 1,
   "metadata": {},
   "outputs": [],
   "source": [
    "from __future__ import print_function\n",
    "from ipywidgets import interact, interactive, fixed, interact_manual\n",
    "import ipywidgets as widgets\n",
    "from ipywidgets import Button, HBox, VBox, Layout, Box\n",
    "from IPython.display import clear_output\n",
    "import _pickle as pickle\n",
    "from w2v_model import word2vec\n",
    "import get_answer"
   ]
  },
  {
   "cell_type": "code",
   "execution_count": 2,
   "metadata": {},
   "outputs": [
    {
     "name": "stdout",
     "output_type": "stream",
     "text": [
      "[nltk_data] Downloading package averaged_perceptron_tagger to\n",
      "[nltk_data]     /home/shashwat/nltk_data...\n",
      "[nltk_data]   Package averaged_perceptron_tagger is already up-to-\n",
      "[nltk_data]       date!\n",
      "[nltk_data] Downloading package sentiwordnet to\n",
      "[nltk_data]     /home/shashwat/nltk_data...\n",
      "[nltk_data]   Package sentiwordnet is already up-to-date!\n",
      "[nltk_data] Downloading package wordnet to /home/shashwat/nltk_data...\n",
      "[nltk_data]   Package wordnet is already up-to-date!\n",
      "[nltk_data] Downloading package punkt to /home/shashwat/nltk_data...\n",
      "[nltk_data]   Package punkt is already up-to-date!\n",
      "['Musical_Instruments', 'PR.txt']\n",
      "\n",
      "\n",
      "\n",
      "\n",
      "==================================\n",
      "\n",
      "\n",
      "\n",
      "\n",
      "                 Musical_Instruments               \n",
      "\n",
      "\n",
      "\n",
      "\n",
      "==================================\n",
      "\n",
      "\n",
      "\n",
      "\n",
      "Reading files ../data_prep/data/Musical_Instruments/Musical_Instruments_Review.json\n"
     ]
    },
    {
     "name": "stderr",
     "output_type": "stream",
     "text": [
      "2018-04-22 19:09:23,199 : INFO : collecting all words and their counts\n",
      "2018-04-22 19:09:23,200 : INFO : PROGRESS: at sentence #0, processed 0 words, keeping 0 word types\n",
      "2018-04-22 19:09:23,210 : INFO : collected 25886 word types from a corpus of 25886 raw words and 1 sentences\n",
      "2018-04-22 19:09:23,210 : INFO : Loading a fresh vocabulary\n",
      "2018-04-22 19:09:23,308 : INFO : min_count=1 retains 25886 unique words (100% of original 25886, drops 0)\n",
      "2018-04-22 19:09:23,309 : INFO : min_count=1 leaves 25886 word corpus (100% of original 25886, drops 0)\n",
      "2018-04-22 19:09:23,373 : INFO : deleting the raw counts dictionary of 25886 items\n",
      "2018-04-22 19:09:23,374 : INFO : sample=0.001 downsamples 0 most-common words\n",
      "2018-04-22 19:09:23,375 : INFO : downsampling leaves estimated 25886 word corpus (100.0% of prior 25886)\n"
     ]
    },
    {
     "name": "stdout",
     "output_type": "stream",
     "text": [
      "Performing Word2Vec\n"
     ]
    },
    {
     "name": "stderr",
     "output_type": "stream",
     "text": [
      "2018-04-22 19:09:23,429 : INFO : estimated required memory for 25886 words and 100 dimensions: 33651800 bytes\n",
      "2018-04-22 19:09:23,430 : INFO : resetting layer weights\n",
      "2018-04-22 19:09:23,651 : INFO : training model with 3 workers on 25886 vocabulary and 100 features, using sg=0 hs=0 sample=0.001 negative=5 window=5\n",
      "2018-04-22 19:09:23,657 : INFO : worker thread finished; awaiting finish of 2 more threads\n",
      "2018-04-22 19:09:23,659 : INFO : worker thread finished; awaiting finish of 1 more threads\n",
      "2018-04-22 19:09:23,696 : INFO : worker thread finished; awaiting finish of 0 more threads\n",
      "2018-04-22 19:09:23,697 : INFO : EPOCH - 1 : training on 25886 raw words (10000 effective words) took 0.0s, 225445 effective words/s\n",
      "2018-04-22 19:09:23,704 : INFO : worker thread finished; awaiting finish of 2 more threads\n",
      "2018-04-22 19:09:23,707 : INFO : worker thread finished; awaiting finish of 1 more threads\n",
      "2018-04-22 19:09:23,735 : INFO : worker thread finished; awaiting finish of 0 more threads\n",
      "2018-04-22 19:09:23,736 : INFO : EPOCH - 2 : training on 25886 raw words (10000 effective words) took 0.0s, 291342 effective words/s\n",
      "2018-04-22 19:09:23,741 : INFO : worker thread finished; awaiting finish of 2 more threads\n",
      "2018-04-22 19:09:23,742 : INFO : worker thread finished; awaiting finish of 1 more threads\n",
      "2018-04-22 19:09:23,770 : INFO : worker thread finished; awaiting finish of 0 more threads\n",
      "2018-04-22 19:09:23,771 : INFO : EPOCH - 3 : training on 25886 raw words (10000 effective words) took 0.0s, 298502 effective words/s\n",
      "2018-04-22 19:09:23,780 : INFO : worker thread finished; awaiting finish of 2 more threads\n",
      "2018-04-22 19:09:23,781 : INFO : worker thread finished; awaiting finish of 1 more threads\n",
      "2018-04-22 19:09:23,808 : INFO : worker thread finished; awaiting finish of 0 more threads\n",
      "2018-04-22 19:09:23,809 : INFO : EPOCH - 4 : training on 25886 raw words (10000 effective words) took 0.0s, 342736 effective words/s\n",
      "2018-04-22 19:09:23,814 : INFO : worker thread finished; awaiting finish of 2 more threads\n",
      "2018-04-22 19:09:23,815 : INFO : worker thread finished; awaiting finish of 1 more threads\n",
      "2018-04-22 19:09:23,840 : INFO : worker thread finished; awaiting finish of 0 more threads\n",
      "2018-04-22 19:09:23,841 : INFO : EPOCH - 5 : training on 25886 raw words (10000 effective words) took 0.0s, 337285 effective words/s\n",
      "2018-04-22 19:09:23,841 : INFO : training on a 129430 raw words (50000 effective words) took 0.2s, 262948 effective words/s\n",
      "2018-04-22 19:09:23,843 : WARNING : under 10 jobs per worker: consider setting a smaller `batch_words' for smoother alpha decay\n"
     ]
    },
    {
     "name": "stdout",
     "output_type": "stream",
     "text": [
      "Dumping Pickles\n",
      "Total products with Questions = 380\n",
      "Processing\n",
      "Category Precision : 87.46052631578947\n",
      "\n",
      "Category Recall : 59.33121063800627\n",
      "\n",
      "#######################\n",
      "\n",
      "\n",
      "\n",
      "\n",
      "\n",
      "==================================\n",
      "\n",
      "\n",
      "\n",
      "\n",
      "                 PR.txt               \n",
      "\n",
      "\n",
      "\n",
      "\n",
      "==================================\n",
      "\n",
      "\n",
      "\n",
      "\n",
      "Reading files ../data_prep/data/PR.txt/PR.txt_Review.json\n"
     ]
    },
    {
     "ename": "NotADirectoryError",
     "evalue": "[Errno 20] Not a directory: '../data_prep/data/PR.txt/PR.txt_Review.json'",
     "output_type": "error",
     "traceback": [
      "\u001b[0;31m---------------------------------------------------------------------------\u001b[0m",
      "\u001b[0;31mNotADirectoryError\u001b[0m                        Traceback (most recent call last)",
      "\u001b[0;32m<ipython-input-2-fa5cfa50f61b>\u001b[0m in \u001b[0;36m<module>\u001b[0;34m()\u001b[0m\n\u001b[1;32m     12\u001b[0m     \u001b[0mfp\u001b[0m\u001b[0;34m.\u001b[0m\u001b[0mwrite\u001b[0m\u001b[0;34m(\u001b[0m\u001b[0mcat\u001b[0m\u001b[0;34m)\u001b[0m\u001b[0;34m\u001b[0m\u001b[0m\n\u001b[1;32m     13\u001b[0m     \u001b[0mfp\u001b[0m\u001b[0;34m.\u001b[0m\u001b[0mwrite\u001b[0m\u001b[0;34m(\u001b[0m\u001b[0;34m\"\\n\"\u001b[0m\u001b[0;34m)\u001b[0m\u001b[0;34m\u001b[0m\u001b[0m\n\u001b[0;32m---> 14\u001b[0;31m     \u001b[0mdriver\u001b[0m\u001b[0;34m.\u001b[0m\u001b[0mrun_w2v\u001b[0m\u001b[0;34m(\u001b[0m\u001b[0mpath\u001b[0m\u001b[0;34m+\u001b[0m\u001b[0mcat\u001b[0m\u001b[0;34m,\u001b[0m \u001b[0mfp\u001b[0m\u001b[0;34m)\u001b[0m\u001b[0;34m\u001b[0m\u001b[0m\n\u001b[0m\u001b[1;32m     15\u001b[0m \u001b[0mfp\u001b[0m\u001b[0;34m.\u001b[0m\u001b[0mclose\u001b[0m\u001b[0;34m(\u001b[0m\u001b[0;34m)\u001b[0m\u001b[0;34m\u001b[0m\u001b[0m\n",
      "\u001b[0;32m~/Documents/orazon/src/get_answer.py\u001b[0m in \u001b[0;36mrun_w2v\u001b[0;34m(self, folder, fp)\u001b[0m\n\u001b[1;32m     25\u001b[0m                 \u001b[0;31m#read the files\u001b[0m\u001b[0;34m\u001b[0m\u001b[0;34m\u001b[0m\u001b[0m\n\u001b[1;32m     26\u001b[0m                 \u001b[0mprint\u001b[0m \u001b[0;34m(\u001b[0m\u001b[0;34m\"Reading files\"\u001b[0m\u001b[0;34m,\u001b[0m \u001b[0mreview_file\u001b[0m\u001b[0;34m)\u001b[0m\u001b[0;34m\u001b[0m\u001b[0m\n\u001b[0;32m---> 27\u001b[0;31m                 \u001b[0mob\u001b[0m\u001b[0;34m.\u001b[0m\u001b[0mread_file_review\u001b[0m\u001b[0;34m(\u001b[0m\u001b[0mreview_file\u001b[0m\u001b[0;34m)\u001b[0m\u001b[0;34m\u001b[0m\u001b[0m\n\u001b[0m\u001b[1;32m     28\u001b[0m                 \u001b[0mob\u001b[0m\u001b[0;34m.\u001b[0m\u001b[0mread_file_question\u001b[0m\u001b[0;34m(\u001b[0m\u001b[0mquestion_file\u001b[0m\u001b[0;34m)\u001b[0m\u001b[0;34m\u001b[0m\u001b[0m\n\u001b[1;32m     29\u001b[0m                 \u001b[0;31m#perform wordvec\u001b[0m\u001b[0;34m\u001b[0m\u001b[0;34m\u001b[0m\u001b[0m\n",
      "\u001b[0;32m~/Documents/orazon/src/w2v_model.py\u001b[0m in \u001b[0;36mread_file_review\u001b[0;34m(self, file_name)\u001b[0m\n\u001b[1;32m     56\u001b[0m \u001b[0;34m\u001b[0m\u001b[0m\n\u001b[1;32m     57\u001b[0m         \u001b[0;32mdef\u001b[0m \u001b[0mread_file_review\u001b[0m\u001b[0;34m(\u001b[0m\u001b[0mself\u001b[0m\u001b[0;34m,\u001b[0m\u001b[0mfile_name\u001b[0m\u001b[0;34m)\u001b[0m\u001b[0;34m:\u001b[0m\u001b[0;34m\u001b[0m\u001b[0m\n\u001b[0;32m---> 58\u001b[0;31m                 \u001b[0;32mwith\u001b[0m \u001b[0mopen\u001b[0m\u001b[0;34m(\u001b[0m\u001b[0mfile_name\u001b[0m\u001b[0;34m)\u001b[0m \u001b[0;32mas\u001b[0m \u001b[0mf\u001b[0m\u001b[0;34m:\u001b[0m\u001b[0;34m\u001b[0m\u001b[0m\n\u001b[0m\u001b[1;32m     59\u001b[0m                         \u001b[0;32mfor\u001b[0m \u001b[0mline\u001b[0m \u001b[0;32min\u001b[0m \u001b[0mf\u001b[0m\u001b[0;34m:\u001b[0m\u001b[0;34m\u001b[0m\u001b[0m\n\u001b[1;32m     60\u001b[0m                                 \u001b[0;32mwhile\u001b[0m \u001b[0;32mTrue\u001b[0m\u001b[0;34m:\u001b[0m\u001b[0;34m\u001b[0m\u001b[0m\n",
      "\u001b[0;31mNotADirectoryError\u001b[0m: [Errno 20] Not a directory: '../data_prep/data/PR.txt/PR.txt_Review.json'"
     ]
    }
   ],
   "source": [
    "ob = word2vec()\n",
    "path = \"../data_prep/data/\"\n",
    "res = get_answer.get_dir_list(path)\n",
    "print (res)\n",
    "get_answer.ob = ob\n",
    "driver = get_answer.Driver()\n",
    "fp = open(path+\"PR.txt\", 'w')\n",
    "for cat in res:\n",
    "    print (\"\\n\\n\\n\\n==================================\\n\\n\\n\\n\")\n",
    "    print (\"                 \"+cat+\"               \")\n",
    "    print (\"\\n\\n\\n\\n==================================\\n\\n\\n\\n\")\n",
    "    fp.write(cat)\n",
    "    fp.write(\"\\n\")\n",
    "    driver.run_w2v(path+cat, fp)\n",
    "fp.close()"
   ]
  },
  {
   "cell_type": "code",
   "execution_count": 10,
   "metadata": {},
   "outputs": [],
   "source": [
    "result= None\n",
    "def ask_question(b):\n",
    "    global result\n",
    "    global category, product, question_text    \n",
    "    result = get_answer.review_2_sent(question_text.value, 4, product.value)"
   ]
  },
  {
   "cell_type": "code",
   "execution_count": 11,
   "metadata": {},
   "outputs": [],
   "source": [
    "categories = [\"Select...\", \"Musical Instruments\"]\n",
    "# \"Arts Crafts and Sewing\", \"Automotive\", \"Baby\", \"Beauty\", \\\n",
    "# \"Cell Phones and Accessories\", \"Clothing Shoes and Jewelry\", \"Electronics\", \\\n",
    "# \"Grocery and Gourmet Food\", \"Health and Personal Care\", \"Home and Kitchen\", \\\n",
    "# \"Industrial and Scientific\", , \"Office Products\", \\\n",
    "# \"Patio Lawn and Garden\", \"Pet Supplies\", \"Software\", \"Sports and Outdoors\"\n",
    "products = [\"P1\", \"B00005ML71\", \"B000VTPR08\", \"B0000AQRSR\",\"P4\", \"P5\"]\n",
    "# with open(\"./cs670project/data_prep/data/Musical_Instruments/Musical_Instruments_QA.json\", 'rb') as f:\n",
    "#     data = f.read()\n",
    "#     print (type(f))\n",
    "#     data = pickle.load(data[1:-1])\n",
    "\n",
    "# print (data[1:-1])"
   ]
  },
  {
   "cell_type": "code",
   "execution_count": 12,
   "metadata": {},
   "outputs": [],
   "source": [
    "category = widgets.Dropdown(\n",
    "    options=categories,\n",
    "    value='Select...',\n",
    "    description='Category:',\n",
    "    disabled=False,\n",
    ")\n",
    "\n",
    "product = widgets.Dropdown(\n",
    "    options=products,\n",
    "    value='P1',\n",
    "    description='Product:',\n",
    "    disabled=False,\n",
    ")\n",
    "\n",
    "question_text = widgets.Text(\n",
    "    value='Hello World',\n",
    "    placeholder='Type something',\n",
    "    description='Question:',\n",
    "    disabled=False\n",
    ")\n",
    "\n",
    "submit = widgets.Button(\n",
    "    description='Ask me!',\n",
    "    disabled=False,\n",
    "    button_style='info', # 'success', 'info', 'warning', 'danger' or ''\n",
    "    tooltip='Click me',\n",
    ")\n",
    "submit.on_click(ask_question)\n",
    "\n",
    "box_layout = Layout(display='flex',\n",
    "                    flex_flow='column',\n",
    "                    align_items='center',\n",
    "                    border='none',\n",
    "                    width='60%')\n",
    "\n",
    "items = [category, product, question_text, submit]\n",
    "box =Box(children=items, layout=box_layout)"
   ]
  },
  {
   "cell_type": "code",
   "execution_count": 13,
   "metadata": {},
   "outputs": [
    {
     "data": {
      "application/vnd.jupyter.widget-view+json": {
       "model_id": "61aafc4129e94065a68e5e1ba1eebaba",
       "version_major": 2,
       "version_minor": 0
      },
      "text/plain": [
       "Box(children=(Dropdown(description='Category:', options=('Select...', 'Musical Instruments'), value='Select...…"
      ]
     },
     "metadata": {},
     "output_type": "display_data"
    },
    {
     "name": "stdout",
     "output_type": "stream",
     "text": [
      "Answer1:  I haven t heard a hint of feedback and the on off switch is a plus.It s perfect for vocals  podcasting  video recording and so forth.I have a regular gig at a medium sized club that is basically one large room.I would have no hesitation using this for bigger rooms with a full band and PA.I m very happy with this purchase.What s also great is you save some money as an XLR cable is included. \n",
      "\n"
     ]
    }
   ],
   "source": [
    "box"
   ]
  },
  {
   "cell_type": "code",
   "execution_count": 14,
   "metadata": {
    "scrolled": false
   },
   "outputs": [
    {
     "data": {
      "text/plain": [
       "{'negative': '',\n",
       " 'positive': 'I haven t heard a hint of feedback and the on off switch is a plus.It s perfect for vocals  podcasting  video recording and so forth.I have a regular gig at a medium sized club that is basically one large room.I would have no hesitation using this for bigger rooms with a full band and PA.I m very happy with this purchase.What s also great is you save some money as an XLR cable is included.',\n",
       " 'reviews': [\"I use this for Video Exchanges on a guitar instruction website. It's perfect for vocals, podcasting, video recording and so forth. Shure makes excellent stuff. What's also great is you save some money as an XLR cable is included. I'm very happy with this purchase.\",\n",
       "  \"The Gain on this mic isn't the greatest, but for speeches and soft recordings: this guy can handle it all very well!\",\n",
       "  'I have a few Shure SM58s which cost more.  I like the open sound of the PG48 but vocals seem to break up more at higher volumes than they do with the SM58s.  I like this mic ok but the SM58 is worth the extra money I think, especially if you expect to push its capability.',\n",
       "  \"4 stars instead of 5 only because this thing won't tune your guitar or carry your amp. I use this solo, in a duo with a bass player, in a trio with drums and bass. I have a regular gig at a medium sized club that is basically one large room. I use it through a Pyle Pro self contained Pa into which I also plug my Martin GRP elec/acoustic. The sound quality is excellent. The volume seems limited only bny what the Pyle Pro will put out. I would have no hesitation using this for bigger rooms with a full band and PA. I haven't heard a hint of feedback and the on/off switch is a plus.The 36.99 price might seem to good to be true but think of the things for which we are paying less for than we used to. I bought a 32&#34; Toshiba flat screen for around 230 bucks, Think of what that would have cost even five years ago or less. The same is true of a lot of Audio Gear. A lot of companies are bringing high quality elctronics and music to the market but it's great to have a company like Shure make something so good and so affordable. They have always made a high quality product and now they have one that almost anyone can afford. I cannot recommend it strongly enough.\"]}"
      ]
     },
     "execution_count": 14,
     "metadata": {},
     "output_type": "execute_result"
    }
   ],
   "source": [
    "result"
   ]
  }
 ],
 "metadata": {
  "kernelspec": {
   "display_name": "Python 3",
   "language": "python",
   "name": "python3"
  },
  "language_info": {
   "codemirror_mode": {
    "name": "ipython",
    "version": 3
   },
   "file_extension": ".py",
   "mimetype": "text/x-python",
   "name": "python",
   "nbconvert_exporter": "python",
   "pygments_lexer": "ipython3",
   "version": "3.6.4"
  }
 },
 "nbformat": 4,
 "nbformat_minor": 2
}
