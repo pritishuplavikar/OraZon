{
 "cells": [
  {
   "cell_type": "code",
   "execution_count": 1,
   "metadata": {},
   "outputs": [],
   "source": [
    "from __future__ import print_function\n",
    "from ipywidgets import interact, interactive, fixed, interact_manual\n",
    "import ipywidgets as widgets\n",
    "from ipywidgets import Button, HBox, VBox, Layout, Box\n",
    "from IPython.display import clear_output\n",
    "import _pickle as pickle\n",
    "from w2v_model import word2vec\n",
    "import get_answer"
   ]
  },
  {
   "cell_type": "code",
   "execution_count": 3,
   "metadata": {},
   "outputs": [
    {
     "name": "stdout",
     "output_type": "stream",
     "text": [
      "[nltk_data] Downloading package averaged_perceptron_tagger to\n",
      "[nltk_data]     /home/shashwat/nltk_data...\n",
      "[nltk_data]   Package averaged_perceptron_tagger is already up-to-\n",
      "[nltk_data]       date!\n",
      "[nltk_data] Downloading package sentiwordnet to\n",
      "[nltk_data]     /home/shashwat/nltk_data...\n",
      "[nltk_data]   Package sentiwordnet is already up-to-date!\n",
      "[nltk_data] Downloading package wordnet to /home/shashwat/nltk_data...\n",
      "[nltk_data]   Package wordnet is already up-to-date!\n",
      "[nltk_data] Downloading package punkt to /home/shashwat/nltk_data...\n",
      "[nltk_data]   Package punkt is already up-to-date!\n",
      "['Musical_Instruments']\n",
      "\n",
      "\n",
      "\n",
      "\n",
      "==================================\n",
      "\n",
      "\n",
      "\n",
      "\n",
      "                 Musical_Instruments               \n",
      "\n",
      "\n",
      "\n",
      "\n",
      "==================================\n",
      "\n",
      "\n",
      "\n",
      "\n",
      "loading data\n",
      "reading dict\n",
      "reading word vec\n",
      "reading model\n",
      "done\n"
     ]
    }
   ],
   "source": [
    "ob = word2vec()\n",
    "path = \"../data_prep/data/\"\n",
    "res = get_answer.get_dir_list(path)\n",
    "print (res)\n",
    "get_answer.ob = ob\n",
    "driver = get_answer.Driver()\n",
    "fp = open(path+\"./../PR.txt\", 'w')\n",
    "for cat in res:\n",
    "    print (\"\\n\\n\\n\\n==================================\\n\\n\\n\\n\")\n",
    "    print (\"                 \"+cat+\"               \")\n",
    "    print (\"\\n\\n\\n\\n==================================\\n\\n\\n\\n\")\n",
    "    fp.write(cat)\n",
    "    fp.write(\"\\n\")\n",
    "    driver.run_w2v(path+cat, fp)\n",
    "fp.close()"
   ]
  },
  {
   "cell_type": "code",
   "execution_count": 4,
   "metadata": {},
   "outputs": [],
   "source": [
    "result= None\n",
    "def ask_question(b):\n",
    "    global result\n",
    "    global category, product, question_text    \n",
    "    result = get_answer.review_2_sent(question_text.value, 4, product.value)"
   ]
  },
  {
   "cell_type": "code",
   "execution_count": 5,
   "metadata": {},
   "outputs": [],
   "source": [
    "categories = [\"Select...\", \"Musical Instruments\"]\n",
    "# \"Arts Crafts and Sewing\", \"Automotive\", \"Baby\", \"Beauty\", \\\n",
    "# \"Cell Phones and Accessories\", \"Clothing Shoes and Jewelry\", \"Electronics\", \\\n",
    "# \"Grocery and Gourmet Food\", \"Health and Personal Care\", \"Home and Kitchen\", \\\n",
    "# \"Industrial and Scientific\", , \"Office Products\", \\\n",
    "# \"Patio Lawn and Garden\", \"Pet Supplies\", \"Software\", \"Sports and Outdoors\"\n",
    "products = [\"P1\", \"B00005ML71\", \"B000VTPR08\", \"B0000AQRSR\",\"P4\", \"P5\"]\n",
    "# with open(\"./cs670project/data_prep/data/Musical_Instruments/Musical_Instruments_QA.json\", 'rb') as f:\n",
    "#     data = f.read()\n",
    "#     print (type(f))\n",
    "#     data = pickle.load(data[1:-1])\n",
    "\n",
    "# print (data[1:-1])"
   ]
  },
  {
   "cell_type": "code",
   "execution_count": 6,
   "metadata": {},
   "outputs": [],
   "source": [
    "category = widgets.Dropdown(\n",
    "    options=categories,\n",
    "    value='Select...',\n",
    "    description='Category:',\n",
    "    disabled=False,\n",
    ")\n",
    "\n",
    "product = widgets.Dropdown(\n",
    "    options=products,\n",
    "    value='P1',\n",
    "    description='Product:',\n",
    "    disabled=False,\n",
    ")\n",
    "\n",
    "question_text = widgets.Text(\n",
    "    value='Hello World',\n",
    "    placeholder='Type something',\n",
    "    description='Question:',\n",
    "    disabled=False\n",
    ")\n",
    "\n",
    "submit = widgets.Button(\n",
    "    description='Ask me!',\n",
    "    disabled=False,\n",
    "    button_style='info', # 'success', 'info', 'warning', 'danger' or ''\n",
    "    tooltip='Click me',\n",
    ")\n",
    "submit.on_click(ask_question)\n",
    "\n",
    "box_layout = Layout(display='flex',\n",
    "                    flex_flow='column',\n",
    "                    align_items='center',\n",
    "                    border='none',\n",
    "                    width='60%')\n",
    "\n",
    "items = [category, product, question_text, submit]\n",
    "box =Box(children=items, layout=box_layout)"
   ]
  },
  {
   "cell_type": "code",
   "execution_count": 7,
   "metadata": {},
   "outputs": [
    {
     "data": {
      "application/vnd.jupyter.widget-view+json": {
       "model_id": "5122da081cfc49059d1f533d4833f7a4",
       "version_major": 2,
       "version_minor": 0
      },
      "text/plain": [
       "Box(children=(Dropdown(description='Category:', options=('Select...', 'Musical Instruments'), value='Select...…"
      ]
     },
     "metadata": {},
     "output_type": "display_data"
    },
    {
     "name": "stdout",
     "output_type": "stream",
     "text": [
      "Answer1:  What s also great is you save some money as an XLR cable is included.I like this mic ok but the SM58 is worth the extra money I think  especially if you expect to push its capability.It gives a clean crisp reproduction of every flaw I have.I m very happy with this purchase.Shure makes excellent stuff.The Gain on this mic isn t the greatest  but for speeches and soft recordings  this guy can handle it all very well. \n",
      "\n"
     ]
    }
   ],
   "source": [
    "box"
   ]
  },
  {
   "cell_type": "code",
   "execution_count": 14,
   "metadata": {
    "scrolled": false
   },
   "outputs": [
    {
     "data": {
      "text/plain": [
       "{'negative': '',\n",
       " 'positive': 'I haven t heard a hint of feedback and the on off switch is a plus.It s perfect for vocals  podcasting  video recording and so forth.I have a regular gig at a medium sized club that is basically one large room.I would have no hesitation using this for bigger rooms with a full band and PA.I m very happy with this purchase.What s also great is you save some money as an XLR cable is included.',\n",
       " 'reviews': [\"I use this for Video Exchanges on a guitar instruction website. It's perfect for vocals, podcasting, video recording and so forth. Shure makes excellent stuff. What's also great is you save some money as an XLR cable is included. I'm very happy with this purchase.\",\n",
       "  \"The Gain on this mic isn't the greatest, but for speeches and soft recordings: this guy can handle it all very well!\",\n",
       "  'I have a few Shure SM58s which cost more.  I like the open sound of the PG48 but vocals seem to break up more at higher volumes than they do with the SM58s.  I like this mic ok but the SM58 is worth the extra money I think, especially if you expect to push its capability.',\n",
       "  \"4 stars instead of 5 only because this thing won't tune your guitar or carry your amp. I use this solo, in a duo with a bass player, in a trio with drums and bass. I have a regular gig at a medium sized club that is basically one large room. I use it through a Pyle Pro self contained Pa into which I also plug my Martin GRP elec/acoustic. The sound quality is excellent. The volume seems limited only bny what the Pyle Pro will put out. I would have no hesitation using this for bigger rooms with a full band and PA. I haven't heard a hint of feedback and the on/off switch is a plus.The 36.99 price might seem to good to be true but think of the things for which we are paying less for than we used to. I bought a 32&#34; Toshiba flat screen for around 230 bucks, Think of what that would have cost even five years ago or less. The same is true of a lot of Audio Gear. A lot of companies are bringing high quality elctronics and music to the market but it's great to have a company like Shure make something so good and so affordable. They have always made a high quality product and now they have one that almost anyone can afford. I cannot recommend it strongly enough.\"]}"
      ]
     },
     "execution_count": 14,
     "metadata": {},
     "output_type": "execute_result"
    }
   ],
   "source": [
    "result"
   ]
  }
 ],
 "metadata": {
  "kernelspec": {
   "display_name": "Python 3",
   "language": "python",
   "name": "python3"
  },
  "language_info": {
   "codemirror_mode": {
    "name": "ipython",
    "version": 3
   },
   "file_extension": ".py",
   "mimetype": "text/x-python",
   "name": "python",
   "nbconvert_exporter": "python",
   "pygments_lexer": "ipython3",
   "version": "3.6.4"
  }
 },
 "nbformat": 4,
 "nbformat_minor": 2
}
